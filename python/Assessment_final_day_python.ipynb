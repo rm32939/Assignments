{
 "cells": [
  {
   "cell_type": "code",
   "execution_count": 6,
   "metadata": {},
   "outputs": [],
   "source": [
    "#5\n",
    "#Fetch the host country and year of FIFA WorldCup into a dictionary\n",
    "import pandas as pd\n",
    "dfa = pd.read_csv('results.csv')\n",
    "dfa['year'] = pd.DatetimeIndex(dfa['date']).year\n",
    "fifa = dfa[dfa['tournament']=='FIFA World Cup']\n",
    "dates = fifa.date.tolist()\n",
    "years=[]\n",
    "for date in dates:\n",
    "    year=date.split('-')[0]\n",
    "    if year not in years:\n",
    "        years.append(year)\n",
    "dictOfCountries={}\n",
    "for i in range(len(years)):\n",
    "    for j in range(len(fifa[fifa['year']==eval(years[i])].country.unique())):\n",
    "        if years[i] in dictOfCountries.keys():\n",
    "            dictOfCountries[years[i]].append(fifa[fifa['year']==eval(years[i])].country.unique()[j])\n",
    "        else:\n",
    "            dictOfCountries[years[i]]=[fifa[fifa['year']==eval(years[i])].country.unique()[j]]"
   ]
  },
  {
   "cell_type": "code",
   "execution_count": 7,
   "metadata": {},
   "outputs": [
    {
     "data": {
      "text/plain": [
       "{'1930': ['Uruguay'],\n",
       " '1934': ['Italy'],\n",
       " '1938': ['France'],\n",
       " '1950': ['Brazil'],\n",
       " '1954': ['Switzerland'],\n",
       " '1958': ['Sweden'],\n",
       " '1962': ['Chile'],\n",
       " '1966': ['England'],\n",
       " '1970': ['Mexico'],\n",
       " '1974': ['Germany'],\n",
       " '1978': ['Argentina'],\n",
       " '1982': ['Spain'],\n",
       " '1986': ['Mexico'],\n",
       " '1990': ['Italy'],\n",
       " '1994': ['United States'],\n",
       " '1998': ['France'],\n",
       " '2002': ['South Korea', 'Japan'],\n",
       " '2006': ['Germany'],\n",
       " '2010': ['South Africa'],\n",
       " '2014': ['Brazil'],\n",
       " '2018': ['Russia']}"
      ]
     },
     "execution_count": 7,
     "metadata": {},
     "output_type": "execute_result"
    }
   ],
   "source": [
    "dictOfCountries"
   ]
  },
  {
   "cell_type": "code",
   "execution_count": 16,
   "metadata": {},
   "outputs": [
    {
     "data": {
      "text/plain": [
       "Friendly                                17036\n",
       "FIFA World Cup qualification             7236\n",
       "UEFA Euro qualification                  2582\n",
       "African Cup of Nations qualification     1672\n",
       "FIFA World Cup                            900\n",
       "                                        ...  \n",
       "Dragon Cup                                  4\n",
       "World Unity Cup                             4\n",
       "Atlantic Heritage Cup                       2\n",
       "Copa América qualification                  2\n",
       "AFF Championship qualification              2\n",
       "Name: tournament, Length: 112, dtype: int64"
      ]
     },
     "execution_count": 16,
     "metadata": {},
     "output_type": "execute_result"
    }
   ],
   "source": [
    "#4 Number of matches played in each tournament\n",
    "dfa.tournament.value_counts()"
   ]
  },
  {
   "cell_type": "code",
   "execution_count": 9,
   "metadata": {},
   "outputs": [
    {
     "data": {
      "text/html": [
       "<div>\n",
       "<style scoped>\n",
       "    .dataframe tbody tr th:only-of-type {\n",
       "        vertical-align: middle;\n",
       "    }\n",
       "\n",
       "    .dataframe tbody tr th {\n",
       "        vertical-align: top;\n",
       "    }\n",
       "\n",
       "    .dataframe thead th {\n",
       "        text-align: right;\n",
       "    }\n",
       "</style>\n",
       "<table border=\"1\" class=\"dataframe\">\n",
       "  <thead>\n",
       "    <tr style=\"text-align: right;\">\n",
       "      <th></th>\n",
       "      <th>date</th>\n",
       "      <th>home_team</th>\n",
       "      <th>away_team</th>\n",
       "      <th>home_score</th>\n",
       "      <th>away_score</th>\n",
       "      <th>tournament</th>\n",
       "      <th>city</th>\n",
       "      <th>country</th>\n",
       "      <th>neutral</th>\n",
       "      <th>year</th>\n",
       "    </tr>\n",
       "  </thead>\n",
       "  <tbody>\n",
       "    <tr>\n",
       "      <td>0</td>\n",
       "      <td>1872-11-30</td>\n",
       "      <td>Scotland</td>\n",
       "      <td>England</td>\n",
       "      <td>0</td>\n",
       "      <td>0</td>\n",
       "      <td>Friendly</td>\n",
       "      <td>Glasgow</td>\n",
       "      <td>Scotland</td>\n",
       "      <td>False</td>\n",
       "      <td>1872</td>\n",
       "    </tr>\n",
       "    <tr>\n",
       "      <td>1</td>\n",
       "      <td>1873-03-08</td>\n",
       "      <td>England</td>\n",
       "      <td>Scotland</td>\n",
       "      <td>4</td>\n",
       "      <td>2</td>\n",
       "      <td>Friendly</td>\n",
       "      <td>London</td>\n",
       "      <td>England</td>\n",
       "      <td>False</td>\n",
       "      <td>1873</td>\n",
       "    </tr>\n",
       "    <tr>\n",
       "      <td>2</td>\n",
       "      <td>1874-03-07</td>\n",
       "      <td>Scotland</td>\n",
       "      <td>England</td>\n",
       "      <td>2</td>\n",
       "      <td>1</td>\n",
       "      <td>Friendly</td>\n",
       "      <td>Glasgow</td>\n",
       "      <td>Scotland</td>\n",
       "      <td>False</td>\n",
       "      <td>1874</td>\n",
       "    </tr>\n",
       "  </tbody>\n",
       "</table>\n",
       "</div>"
      ],
      "text/plain": [
       "         date home_team away_team  home_score  away_score tournament     city  \\\n",
       "0  1872-11-30  Scotland   England           0           0   Friendly  Glasgow   \n",
       "1  1873-03-08   England  Scotland           4           2   Friendly   London   \n",
       "2  1874-03-07  Scotland   England           2           1   Friendly  Glasgow   \n",
       "\n",
       "    country  neutral  year  \n",
       "0  Scotland    False  1872  \n",
       "1   England    False  1873  \n",
       "2  Scotland    False  1874  "
      ]
     },
     "execution_count": 9,
     "metadata": {},
     "output_type": "execute_result"
    }
   ],
   "source": [
    "#3 first 3 matches\n",
    "dfa[0:3]"
   ]
  },
  {
   "cell_type": "code",
   "execution_count": 12,
   "metadata": {},
   "outputs": [
    {
     "name": "stdout",
     "output_type": "stream",
     "text": [
      "0            England\n",
      "1           Scotland\n",
      "2            England\n",
      "3           Scotland\n",
      "4            England\n",
      "            ...     \n",
      "41535     Tajikistan\n",
      "41536       Thailand\n",
      "41537      Indonesia\n",
      "41538      Sri Lanka\n",
      "41539    North Korea\n",
      "Name: away_team, Length: 41540, dtype: object\n"
     ]
    }
   ],
   "source": [
    "#2\n",
    "print(dfa.away_team)"
   ]
  },
  {
   "cell_type": "code",
   "execution_count": 15,
   "metadata": {},
   "outputs": [
    {
     "name": "stdout",
     "output_type": "stream",
     "text": [
      "Country that hosted the second highest number of matches is France with 806 matches hosted\n"
     ]
    }
   ],
   "source": [
    "#1 hosted second highest number of matches\n",
    "dicta = dfa.country.value_counts()\n",
    "print(\"Country that hosted the second highest number of matches is\",dicta.keys()[1],'with',dicta[1],'matches hosted')"
   ]
  },
  {
   "cell_type": "code",
   "execution_count": null,
   "metadata": {},
   "outputs": [],
   "source": []
  }
 ],
 "metadata": {
  "kernelspec": {
   "display_name": "Python 3",
   "language": "python",
   "name": "python3"
  },
  "language_info": {
   "codemirror_mode": {
    "name": "ipython",
    "version": 3
   },
   "file_extension": ".py",
   "mimetype": "text/x-python",
   "name": "python",
   "nbconvert_exporter": "python",
   "pygments_lexer": "ipython3",
   "version": "3.7.4"
  }
 },
 "nbformat": 4,
 "nbformat_minor": 2
}
