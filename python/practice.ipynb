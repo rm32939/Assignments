{
 "cells": [
  {
   "cell_type": "code",
   "execution_count": 5,
   "metadata": {},
   "outputs": [
    {
     "name": "stdout",
     "output_type": "stream",
     "text": [
      "Enter 1st number: 44\n",
      "Enter 2nd number: 57\n",
      "50\n"
     ]
    }
   ],
   "source": [
    "#1\n",
    "a=int(input(\"Enter 1st number: \"))\n",
    "b=int(input(\"Enter 2nd number: \"))\n",
    "sum=a+b\n",
    "avg1=sum//2\n",
    "print(avg1)"
   ]
  },
  {
   "cell_type": "code",
   "execution_count": 4,
   "metadata": {},
   "outputs": [
    {
     "data": {
      "text/plain": [
       "5"
      ]
     },
     "execution_count": 4,
     "metadata": {},
     "output_type": "execute_result"
    }
   ],
   "source": [
    "avg1"
   ]
  },
  {
   "cell_type": "code",
   "execution_count": 9,
   "metadata": {},
   "outputs": [
    {
     "name": "stdout",
     "output_type": "stream",
     "text": [
      "1\n",
      "2\n",
      "3\n",
      "4\n"
     ]
    }
   ],
   "source": [
    "#2\n",
    "list1=[1,2,3,55,6,7,4,5]\n",
    "for var in list1:\n",
    "    if var<5:\n",
    "        print(var)\n",
    "    "
   ]
  },
  {
   "cell_type": "code",
   "execution_count": 12,
   "metadata": {},
   "outputs": [
    {
     "name": "stdout",
     "output_type": "stream",
     "text": [
      "Enter the number: 30\n",
      "Number divisible by 10. Enjoy\n"
     ]
    }
   ],
   "source": [
    "#3\n",
    "n=eval(input(\"Enter the number: \"))\n",
    "if n%2==0 and n%10!=0:\n",
    "    print(\"Even\")\n",
    "elif n%2!=0:\n",
    "    print(\"Odd\")\n",
    "elif n%10==0:\n",
    "    print(\"Number divisible by 10. Enjoy\")"
   ]
  },
  {
   "cell_type": "code",
   "execution_count": 15,
   "metadata": {},
   "outputs": [
    {
     "name": "stdout",
     "output_type": "stream",
     "text": [
      "Enter the 1st integer: -98\n",
      "Enter the 2nd integer: 34\n",
      "-3332\n"
     ]
    }
   ],
   "source": [
    "#4\n",
    "\n",
    "p=eval(input(\"Enter the 1st integer: \"))\n",
    "q=eval(input(\"Enter the 2nd integer: \"))\n",
    "if p*q>500:\n",
    "    print(\"Product greater than 500. Sum is: \",p+q)\n",
    "else:\n",
    "    print(p*q)"
   ]
  },
  {
   "cell_type": "code",
   "execution_count": 17,
   "metadata": {},
   "outputs": [
    {
     "name": "stdout",
     "output_type": "stream",
     "text": [
      "9\n",
      "11\n",
      "13\n",
      "15\n",
      "17\n",
      "19\n",
      "21\n",
      "23\n",
      "25\n",
      "27\n",
      "29\n",
      "31\n",
      "33\n",
      "35\n",
      "37\n",
      "39\n"
     ]
    }
   ],
   "source": [
    "#5\n",
    "\n",
    "for i in range(5,21):\n",
    "    print(i+i-1)"
   ]
  },
  {
   "cell_type": "code",
   "execution_count": 21,
   "metadata": {},
   "outputs": [
    {
     "name": "stdout",
     "output_type": "stream",
     "text": [
      "Enter letter: I\n",
      "Vowel\n"
     ]
    }
   ],
   "source": [
    "#6\n",
    "\n",
    "val=str(input(\"Enter letter: \"))\n",
    "listb=[\"a\",\"e\",\"i\",\"o\",\"u\",\"A\",\"E\",\"I\",\"O\",\"U\"]\n",
    "for varb in listb:\n",
    "    if val==varb:\n",
    "        print(\"Vowel\")\n",
    "        break;\n",
    "else:\n",
    "    print(\"Consonant\")"
   ]
  },
  {
   "cell_type": "code",
   "execution_count": 28,
   "metadata": {},
   "outputs": [
    {
     "name": "stdout",
     "output_type": "stream",
     "text": [
      "Enter String: amrit\n",
      "a\n",
      "r\n",
      "t\n"
     ]
    }
   ],
   "source": [
    "#7\n",
    "\n",
    "st=str(input(\"Enter String: \"))\n",
    "c=len(st)\n",
    "for i in range(0,c):\n",
    "    if i%2==0:\n",
    "        print(st[i])\n",
    "        "
   ]
  },
  {
   "cell_type": "code",
   "execution_count": 27,
   "metadata": {},
   "outputs": [
    {
     "data": {
      "text/plain": [
       "4"
      ]
     },
     "execution_count": 27,
     "metadata": {},
     "output_type": "execute_result"
    }
   ],
   "source": [
    "len(st)"
   ]
  },
  {
   "cell_type": "code",
   "execution_count": 30,
   "metadata": {},
   "outputs": [
    {
     "name": "stdout",
     "output_type": "stream",
     "text": [
      "20\n",
      "70\n",
      "30\n"
     ]
    }
   ],
   "source": [
    "#8\n",
    "\n",
    "listd=[12,34,20,45,67,70,30,234]\n",
    "for var in listd:\n",
    "    if var%10==0:\n",
    "        print(var)\n",
    "        "
   ]
  },
  {
   "cell_type": "code",
   "execution_count": 32,
   "metadata": {},
   "outputs": [
    {
     "name": "stdout",
     "output_type": "stream",
     "text": [
      "Different\n"
     ]
    }
   ],
   "source": [
    "#9\n",
    "\n",
    "liste=[234,2,3,4,78,9,1]\n",
    "if liste[0]==liste[-1]:\n",
    "    print(\"They are same\")\n",
    "else:\n",
    "    print(\"Different\")\n",
    "    "
   ]
  },
  {
   "cell_type": "code",
   "execution_count": 45,
   "metadata": {},
   "outputs": [
    {
     "name": "stdout",
     "output_type": "stream",
     "text": [
      "Enter string: the quick brown bloody fox\n"
     ]
    },
    {
     "data": {
      "text/plain": [
       "'the_quick_brown_bloody_fox'"
      ]
     },
     "execution_count": 45,
     "metadata": {},
     "output_type": "execute_result"
    }
   ],
   "source": [
    "#10\n",
    "list10=[]\n",
    "str10=input(\"Enter string: \")\n",
    "str10.replace(\" \",\"_\")"
   ]
  },
  {
   "cell_type": "code",
   "execution_count": 44,
   "metadata": {},
   "outputs": [
    {
     "data": {
      "text/plain": [
       "['\"asds', 'sda', 'adsa\"']"
      ]
     },
     "execution_count": 44,
     "metadata": {},
     "output_type": "execute_result"
    }
   ],
   "source": [
    "list10"
   ]
  },
  {
   "cell_type": "code",
   "execution_count": 36,
   "metadata": {},
   "outputs": [
    {
     "ename": "TypeError",
     "evalue": "'str' object does not support item assignment",
     "output_type": "error",
     "traceback": [
      "\u001b[1;31m---------------------------------------------------------------------------\u001b[0m",
      "\u001b[1;31mTypeError\u001b[0m                                 Traceback (most recent call last)",
      "\u001b[1;32m<ipython-input-36-616d44cc918f>\u001b[0m in \u001b[0;36m<module>\u001b[1;34m\u001b[0m\n\u001b[1;32m----> 1\u001b[1;33m \u001b[0mstr\u001b[0m\u001b[1;33m[\u001b[0m\u001b[1;36m0\u001b[0m\u001b[1;33m]\u001b[0m\u001b[1;33m=\u001b[0m\u001b[1;34m\"e\"\u001b[0m\u001b[1;33m\u001b[0m\u001b[1;33m\u001b[0m\u001b[0m\n\u001b[0m",
      "\u001b[1;31mTypeError\u001b[0m: 'str' object does not support item assignment"
     ]
    }
   ],
   "source": [
    "str[0]=\"e\""
   ]
  },
  {
   "cell_type": "code",
   "execution_count": 51,
   "metadata": {},
   "outputs": [
    {
     "name": "stdout",
     "output_type": "stream",
     "text": [
      "Enter String:\"add\"\n",
      "String is not a palindrome\n"
     ]
    }
   ],
   "source": [
    "#11\n",
    "\n",
    "str11=input(\"Enter String:\")\n",
    "c=len(str11)\n",
    "strs11=str11[c::-1]\n",
    "if str11==strs11:\n",
    "    print(\"String is a palindrome\")\n",
    "else:\n",
    "    print(\"String is not a palindrome\")\n",
    "    "
   ]
  },
  {
   "cell_type": "code",
   "execution_count": 49,
   "metadata": {},
   "outputs": [
    {
     "data": {
      "text/plain": [
       "'d'"
      ]
     },
     "execution_count": 49,
     "metadata": {},
     "output_type": "execute_result"
    }
   ],
   "source": [
    "str11[-1]"
   ]
  },
  {
   "cell_type": "code",
   "execution_count": 58,
   "metadata": {},
   "outputs": [
    {
     "name": "stdout",
     "output_type": "stream",
     "text": [
      "Enter range: 5\n",
      "0\n",
      "1\n",
      "1\n",
      "2\n",
      "3\n"
     ]
    }
   ],
   "source": [
    "#12\n",
    "n=int(input(\"Enter range: \"))\n",
    "n1=0\n",
    "n2=1\n",
    "for i in range(0,n):\n",
    "    print(n1)\n",
    "    n3=n1+n2\n",
    "    n1=n2\n",
    "    n2=n3\n",
    "    \n"
   ]
  },
  {
   "cell_type": "code",
   "execution_count": 72,
   "metadata": {},
   "outputs": [
    {
     "name": "stdout",
     "output_type": "stream",
     "text": [
      "hello hohey are you\n"
     ]
    }
   ],
   "source": [
    "#13\n",
    "\n",
    "stra=\"hello how are you\"\n",
    "strb=\"hey\"\n",
    "c=len(stra)\n",
    "strc=stra[0:c//2]\n",
    "strd=stra[(c//2)+1:c]\n",
    "stre=strc+strb+strd\n",
    "print(stre)\n"
   ]
  },
  {
   "cell_type": "code",
   "execution_count": 70,
   "metadata": {},
   "outputs": [
    {
     "data": {
      "text/plain": [
       "['hello ho', 'hey', ' are you']"
      ]
     },
     "execution_count": 70,
     "metadata": {},
     "output_type": "execute_result"
    }
   ],
   "source": [
    "stre"
   ]
  },
  {
   "cell_type": "code",
   "execution_count": 78,
   "metadata": {},
   "outputs": [
    {
     "name": "stdout",
     "output_type": "stream",
     "text": [
      " \n",
      "1 \n",
      "12 \n",
      "123 \n",
      "1234 \n",
      "12345 \n"
     ]
    }
   ],
   "source": [
    "#14\n",
    "\n",
    "for i in range(1,7):\n",
    "    for j in range(1,i):\n",
    "        print(j,end='')\n",
    "    print(\" \")        \n",
    "        "
   ]
  },
  {
   "cell_type": "code",
   "execution_count": 87,
   "metadata": {},
   "outputs": [
    {
     "name": "stdout",
     "output_type": "stream",
     "text": [
      "Enter String: dalinar adff ffafaf\n",
      "dali\n"
     ]
    }
   ],
   "source": [
    "#15\n",
    "\n",
    "stra=input(\"Enter String: \")\n",
    "c=len(stra)\n",
    "d=(c*0.25)//1\n",
    "d=int(d)\n",
    "print(stra[0:d])"
   ]
  },
  {
   "cell_type": "code",
   "execution_count": 85,
   "metadata": {},
   "outputs": [
    {
     "data": {
      "text/plain": [
       "3.0"
      ]
     },
     "execution_count": 85,
     "metadata": {},
     "output_type": "execute_result"
    }
   ],
   "source": [
    "d"
   ]
  },
  {
   "cell_type": "code",
   "execution_count": 92,
   "metadata": {},
   "outputs": [
    {
     "name": "stdout",
     "output_type": "stream",
     "text": [
      "166\n"
     ]
    }
   ],
   "source": [
    "#16\n",
    "\n",
    "lista=[1,2,3,56,78,88,21,34,43,21]\n",
    "c=len(lista)\n",
    "\n",
    "if c%2!=0:\n",
    "    d=c//2\n",
    "    d=int(d)\n",
    "    print(lista[d])\n",
    "else:\n",
    "    e=c//2\n",
    "    e=int(e)\n",
    "    var=lista[e]+lista[e-1]\n",
    "    print(var)\n",
    "    \n"
   ]
  },
  {
   "cell_type": "code",
   "execution_count": 128,
   "metadata": {},
   "outputs": [
    {
     "name": "stdout",
     "output_type": "stream",
     "text": [
      "[1, 2, 4]\n"
     ]
    }
   ],
   "source": [
    "#17\n",
    "lista=[1,2,1,3,4,5,6,8,9]\n",
    "listb=[23,45,33,2,1,4]\n",
    "seta=set(lista)\n",
    "type(seta)\n",
    "setb=set(listb)\n",
    "setc=seta & setb\n",
    "listc=list(setc)\n",
    "print(listc)\n",
    "    \n"
   ]
  },
  {
   "cell_type": "code",
   "execution_count": 100,
   "metadata": {},
   "outputs": [
    {
     "name": "stdout",
     "output_type": "stream",
     "text": [
      "Enter year: 2016\n",
      "It's a leap year\n"
     ]
    }
   ],
   "source": [
    "#18\n",
    "\n",
    "year=int(input(\"Enter year: \"))\n",
    "\n",
    "if year%4==0:\n",
    "    print(\"It's a leap year\")\n",
    "elif year%100==0 and year%400==0:\n",
    "    print(\"It's a leap year\")\n",
    "else:\n",
    "    print(\"Its not a leap year\")\n",
    "\n"
   ]
  },
  {
   "cell_type": "code",
   "execution_count": 105,
   "metadata": {},
   "outputs": [
    {
     "name": "stdout",
     "output_type": "stream",
     "text": [
      "Enter number: 9\n",
      "Not a prime number\n"
     ]
    }
   ],
   "source": [
    "#19\n",
    "\n",
    "n=int(input(\"Enter number: \"))\n",
    "d=n//2\n",
    "d=int(d)\n",
    "flag=0\n",
    "for i in range(2,d):\n",
    "    if n%i==0:\n",
    "        flag=1\n",
    "        print(\"Not a prime number\")\n",
    "        break;\n",
    "\n",
    "if flag==0:\n",
    "    print(n,\" is a prime number\")\n",
    "    \n"
   ]
  },
  {
   "cell_type": "code",
   "execution_count": 102,
   "metadata": {},
   "outputs": [
    {
     "data": {
      "text/plain": [
       "21"
      ]
     },
     "execution_count": 102,
     "metadata": {},
     "output_type": "execute_result"
    }
   ],
   "source": [
    "d\n"
   ]
  },
  {
   "cell_type": "code",
   "execution_count": 126,
   "metadata": {},
   "outputs": [
    {
     "name": "stdout",
     "output_type": "stream",
     "text": [
      "Minimum number:  1\n",
      "Maximum number:  326\n"
     ]
    }
   ],
   "source": [
    "#20\n",
    "\n",
    "lista=[1,2,1,3,4,44,5,45,326,6,5,4,7,8,9]\n",
    "\n",
    "seta=set(lista)\n",
    "\n",
    "tupa=tuple(seta)\n",
    "tupb=sorted(tupa)\n",
    "d=len(tupa)\n",
    "print(\"Minimum number: \",tupb[0])\n",
    "print(\"Maximum number: \",tupb[d-1])\n"
   ]
  },
  {
   "cell_type": "code",
   "execution_count": 130,
   "metadata": {},
   "outputs": [
    {
     "data": {
      "text/plain": [
       "(1, 2, 3, 4, 5, 326, 6, 7, 8, 9, 44, 45)"
      ]
     },
     "execution_count": 130,
     "metadata": {},
     "output_type": "execute_result"
    }
   ],
   "source": [
    "tupa"
   ]
  },
  {
   "cell_type": "code",
   "execution_count": 140,
   "metadata": {},
   "outputs": [],
   "source": [
    "#21\n",
    "\n",
    "def compound(deposit,y):\n",
    "    a=(1+(0.08))**y\n",
    "    amount=deposit*a\n",
    "    return amount"
   ]
  },
  {
   "cell_type": "code",
   "execution_count": 141,
   "metadata": {},
   "outputs": [
    {
     "name": "stdout",
     "output_type": "stream",
     "text": [
      "Amount is:  62985.600000000006\n"
     ]
    }
   ],
   "source": [
    "print(\"Amount is: \", compound(50000,3))"
   ]
  },
  {
   "cell_type": "code",
   "execution_count": 142,
   "metadata": {},
   "outputs": [],
   "source": [
    "#22\n",
    "\n",
    "dicta={1:23,2:45,3:{1:34,4:678,5:224}}"
   ]
  },
  {
   "cell_type": "code",
   "execution_count": 144,
   "metadata": {},
   "outputs": [
    {
     "data": {
      "text/plain": [
       "{1: 23, 2: 45, 3: {1: 34, 4: 678, 5: 224}}"
      ]
     },
     "execution_count": 144,
     "metadata": {},
     "output_type": "execute_result"
    }
   ],
   "source": [
    "dicta"
   ]
  },
  {
   "cell_type": "code",
   "execution_count": 158,
   "metadata": {},
   "outputs": [
    {
     "data": {
      "text/plain": [
       "dict"
      ]
     },
     "execution_count": 158,
     "metadata": {},
     "output_type": "execute_result"
    }
   ],
   "source": []
  },
  {
   "cell_type": "code",
   "execution_count": 154,
   "metadata": {},
   "outputs": [
    {
     "name": "stdout",
     "output_type": "stream",
     "text": [
      "<built-in method pop of dict object at 0x0000020623EF7CC8>\n"
     ]
    }
   ],
   "source": [
    "print(a)"
   ]
  },
  {
   "cell_type": "code",
   "execution_count": null,
   "metadata": {},
   "outputs": [],
   "source": []
  }
 ],
 "metadata": {
  "kernelspec": {
   "display_name": "Python 3",
   "language": "python",
   "name": "python3"
  },
  "language_info": {
   "codemirror_mode": {
    "name": "ipython",
    "version": 3
   },
   "file_extension": ".py",
   "mimetype": "text/x-python",
   "name": "python",
   "nbconvert_exporter": "python",
   "pygments_lexer": "ipython3",
   "version": "3.7.4"
  }
 },
 "nbformat": 4,
 "nbformat_minor": 2
}
