{
 "cells": [
  {
   "cell_type": "code",
   "execution_count": 3,
   "metadata": {},
   "outputs": [],
   "source": [
    "lista=[1,3,1,22,2,44,4,4,5,5,44,2,22,33]\n",
    "dicta={}\n",
    "\n",
    "for vara in lista:\n",
    "    dicta[vara]=lista.count(vara)\n",
    "\n",
    "    "
   ]
  },
  {
   "cell_type": "code",
   "execution_count": 6,
   "metadata": {},
   "outputs": [
    {
     "data": {
      "text/plain": [
       "dict_values([2, 1, 2, 2, 2, 2, 2, 1])"
      ]
     },
     "execution_count": 6,
     "metadata": {},
     "output_type": "execute_result"
    }
   ],
   "source": [
    "dicta.values()"
   ]
  },
  {
   "cell_type": "code",
   "execution_count": 42,
   "metadata": {},
   "outputs": [],
   "source": [
    "def funca(dictb):\n",
    "    listb=[]\n",
    "    for vare in dictb.values():\n",
    "        if type(vare)==dict:\n",
    "            listb.extend(funca(vare))\n",
    "        else:\n",
    "            listb.append(vare)\n",
    "    return listb"
   ]
  },
  {
   "cell_type": "code",
   "execution_count": 43,
   "metadata": {},
   "outputs": [
    {
     "name": "stdout",
     "output_type": "stream",
     "text": [
      "[23, 'hello', 45, 'hey', 890, 'hannah', 'madam', 'lady', 'ram', 'raj', 'gaye', 456, 'hi']\n"
     ]
    }
   ],
   "source": [
    "listd=[]\n",
    "dictc={1:23,2:\"hello\",3:{6:45,7:\"hey\",11:890,34:{123:\"hannah\",124:\"madam\",126:\"lady\",125:{1:\"ram\",2:\"raj\",3:\"gaye\"}}},4:{6:456,9:\"hi\"}}\n",
    "for vard in dictc.values():\n",
    "    if type(vard)==dict:\n",
    "        listd.extend(funca(vard))\n",
    "    else:\n",
    "        listd.append(vard)\n",
    "        \n",
    "print(listd)\n",
    "        "
   ]
  },
  {
   "cell_type": "code",
   "execution_count": 9,
   "metadata": {},
   "outputs": [
    {
     "data": {
      "text/plain": [
       "dict"
      ]
     },
     "execution_count": 9,
     "metadata": {},
     "output_type": "execute_result"
    }
   ],
   "source": [
    "type(dicta)"
   ]
  },
  {
   "cell_type": "code",
   "execution_count": null,
   "metadata": {},
   "outputs": [],
   "source": []
  }
 ],
 "metadata": {
  "kernelspec": {
   "display_name": "Python 3",
   "language": "python",
   "name": "python3"
  },
  "language_info": {
   "codemirror_mode": {
    "name": "ipython",
    "version": 3
   },
   "file_extension": ".py",
   "mimetype": "text/x-python",
   "name": "python",
   "nbconvert_exporter": "python",
   "pygments_lexer": "ipython3",
   "version": "3.7.4"
  }
 },
 "nbformat": 4,
 "nbformat_minor": 2
}
