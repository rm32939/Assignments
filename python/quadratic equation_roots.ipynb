{
 "cells": [
  {
   "cell_type": "code",
   "execution_count": 1,
   "metadata": {},
   "outputs": [
    {
     "name": "stdout",
     "output_type": "stream",
     "text": [
      "2x2+4x+123\n",
      "-4.0 + 7.7781745930520225i\n",
      "-4.0 - 7.7781745930520225i\n"
     ]
    }
   ],
   "source": [
    "e=input()\n",
    "# to obtain the coefficients\n",
    "c=e.split(\"x\")\n",
    "d=e.split(\"+\") \n",
    "f=d[1].split(\"x\")\n",
    "intb=int(f[0])\n",
    "inta=int(c[0])\n",
    "intc=int(d[2])\n",
    "#calculating the roots\n",
    "import math\n",
    "dis=((intb**2)-(4*inta*intc))\n",
    "if dis<0:\n",
    "    n=dis*(-1)\n",
    "    n=math.sqrt(n)\n",
    "    n=n/(2*inta)\n",
    "    ne=str(n)+\"i\"\n",
    "    de=str(-intb/2*inta)\n",
    "    print(de,\"+\",ne)\n",
    "    print(de,\"-\",ne)\n",
    "elif dis>0:\n",
    "    ne=math.sqrt(dis)\n",
    "    print((-intb+ne)/2*inta,(-intb-ne)/2*inta)\n",
    "else:\n",
    "    ne=0\n",
    "    print(-intb/(2*inta))\n",
    "# it will only work for quadratic equations of the sort ax2+bx+c where a,b,c are positive and a is greater than 1.\n",
    "# it will also work for a=1 but you have to explicitly mention it. e.g: 1x2+45x+83"
   ]
  },
  {
   "cell_type": "code",
   "execution_count": null,
   "metadata": {},
   "outputs": [],
   "source": []
  }
 ],
 "metadata": {
  "kernelspec": {
   "display_name": "Python 3",
   "language": "python",
   "name": "python3"
  },
  "language_info": {
   "codemirror_mode": {
    "name": "ipython",
    "version": 3
   },
   "file_extension": ".py",
   "mimetype": "text/x-python",
   "name": "python",
   "nbconvert_exporter": "python",
   "pygments_lexer": "ipython3",
   "version": "3.7.4"
  }
 },
 "nbformat": 4,
 "nbformat_minor": 2
}
